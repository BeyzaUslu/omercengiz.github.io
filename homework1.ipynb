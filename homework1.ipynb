{
  "nbformat": 4,
  "nbformat_minor": 0,
  "metadata": {
    "colab": {
      "name": "Untitled4.ipynb",
      "provenance": [],
      "authorship_tag": "ABX9TyMzQS7QolUyLnEVV3jZd05r",
      "include_colab_link": true
    },
    "kernelspec": {
      "name": "python3",
      "display_name": "Python 3"
    }
  },
  "cells": [
    {
      "cell_type": "markdown",
      "metadata": {
        "id": "view-in-github",
        "colab_type": "text"
      },
      "source": [
        "<a href=\"https://colab.research.google.com/github/BeyzaUslu/omercengiz.github.io/blob/master/homework1.ipynb\" target=\"_parent\"><img src=\"https://colab.research.google.com/assets/colab-badge.svg\" alt=\"Open In Colab\"/></a>"
      ]
    },
    {
      "cell_type": "code",
      "metadata": {
        "colab": {
          "base_uri": "https://localhost:8080/"
        },
        "id": "7RZpFGI2zTAD",
        "outputId": "39410188-a96a-45c1-84d1-bb65e3278b11"
      },
      "source": [
        "list1 = [11, 27, 3, 45, 69 ] \r\n",
        "  \r\n",
        "for num in list1: \r\n",
        "      \r\n",
        "    # tek sayı kontrolü\r\n",
        "    if num % 2 != 0: \r\n",
        "       print(num, end = \" \")\r\n"
      ],
      "execution_count": 25,
      "outputs": [
        {
          "output_type": "stream",
          "text": [
            "11 27 3 45 69 "
          ],
          "name": "stdout"
        }
      ]
    },
    {
      "cell_type": "code",
      "metadata": {
        "colab": {
          "base_uri": "https://localhost:8080/"
        },
        "id": "0gDWb-lY2IZ_",
        "outputId": "225a306c-b034-4768-95ef-a25ecf6ebf86"
      },
      "source": [
        "list2 = [10, 22, 4, 46, 68 ] \r\n",
        "  \r\n",
        "for num in list2: \r\n",
        "   # cift sayı kontrolü\r\n",
        "    if num % 2 == 0: \r\n",
        "       print(num, end = \" \")"
      ],
      "execution_count": 26,
      "outputs": [
        {
          "output_type": "stream",
          "text": [
            "10 22 4 46 68 "
          ],
          "name": "stdout"
        }
      ]
    },
    {
      "cell_type": "code",
      "metadata": {
        "colab": {
          "base_uri": "https://localhost:8080/"
        },
        "id": "MjnyxEDt2EoJ",
        "outputId": "2ceddc07-689c-43fe-8373-1c384a2c1a20"
      },
      "source": [
        "list1.extend(list2)\r\n",
        "\r\n",
        "print(list1)\r\n"
      ],
      "execution_count": 33,
      "outputs": [
        {
          "output_type": "stream",
          "text": [
            "[11, 27, 3, 45, 69, 10, 22, 4, 46, 68, 10, 22, 4, 46, 68]\n"
          ],
          "name": "stdout"
        }
      ]
    },
    {
      "cell_type": "code",
      "metadata": {
        "colab": {
          "base_uri": "https://localhost:8080/"
        },
        "id": "oDN-2CJf5lW4",
        "outputId": "5217693b-74ff-40f6-f8df-7fb9ee5336e2"
      },
      "source": [
        "list1 * 2\r\n",
        "print(list1)"
      ],
      "execution_count": 34,
      "outputs": [
        {
          "output_type": "stream",
          "text": [
            "[11, 27, 3, 45, 69, 10, 22, 4, 46, 68, 10, 22, 4, 46, 68]\n"
          ],
          "name": "stdout"
        }
      ]
    },
    {
      "cell_type": "code",
      "metadata": {
        "id": "FHQVD05b2VsH"
      },
      "source": [
        ""
      ],
      "execution_count": 33,
      "outputs": []
    }
  ]
}
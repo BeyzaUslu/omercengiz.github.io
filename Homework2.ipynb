{
  "nbformat": 4,
  "nbformat_minor": 0,
  "metadata": {
    "colab": {
      "name": "Untitled5.ipynb",
      "provenance": [],
      "authorship_tag": "ABX9TyPSwprCheWhLmEHzpWVs3LM",
      "include_colab_link": true
    },
    "kernelspec": {
      "name": "python3",
      "display_name": "Python 3"
    }
  },
  "cells": [
    {
      "cell_type": "markdown",
      "metadata": {
        "id": "view-in-github",
        "colab_type": "text"
      },
      "source": [
        "<a href=\"https://colab.research.google.com/github/BeyzaUslu/omercengiz.github.io/blob/master/Homework2.ipynb\" target=\"_parent\"><img src=\"https://colab.research.google.com/assets/colab-badge.svg\" alt=\"Open In Colab\"/></a>"
      ]
    },
    {
      "cell_type": "code",
      "metadata": {
        "id": "_mxSvxUv7og_"
      },
      "source": [
        "#CV1\r\n",
        "Ad = input('İsminizi Girin : ')\r\n",
        "print(Ad)\r\n",
        "\r\n",
        "Soyad = input('Soyad Girin : ')\r\n",
        "print(Soyad)\r\n",
        "\r\n",
        "Yas= input('Dogum Tarihi Girin : ')\r\n",
        "print(Yas)\r\n",
        " \r\n",
        "Adres= input('Adres Girin : ')\r\n",
        "print(Adres)\r\n",
        "\r\n",
        "IsUnvanı= input('Is Unvanı Girin : ')\r\n",
        "print(IsUnvanı)"
      ],
      "execution_count": null,
      "outputs": []
    },
    {
      "cell_type": "code",
      "metadata": {
        "colab": {
          "base_uri": "https://localhost:8080/"
        },
        "id": "ZAHYZ_s0_F0y",
        "outputId": "1d8c7004-aa52-49d2-b570-647750ddd244"
      },
      "source": [
        "#CV2\r\n",
        "Ad = input('İsminizi Girin : ')\r\n",
        "print(Ad)\r\n",
        "\r\n",
        "Soyad = input('Soyad Girin : ')\r\n",
        "print(Soyad)\r\n",
        "\r\n",
        "Yas= input('Dogum Tarihi Girin : ')\r\n",
        "print(Yas)\r\n",
        " \r\n",
        "Adres= input('Adres Girin : ')\r\n",
        "print(Adres)\r\n",
        "\r\n",
        "IsUnvanı= input('Is Unvanı Girin : ')\r\n",
        "print(IsUnvanı)"
      ],
      "execution_count": 17,
      "outputs": [
        {
          "output_type": "stream",
          "text": [
            "İsminizi Girin : c\n",
            "c\n",
            "Soyad Girin : v\n",
            "v\n",
            "Dogum Tarihi Girin : d\n",
            "d\n",
            "Adres Girin : f\n",
            "f\n",
            "Is Unvanı Girin : y\n",
            "y\n"
          ],
          "name": "stdout"
        }
      ]
    },
    {
      "cell_type": "code",
      "metadata": {
        "id": "kGVubPciE7x-"
      },
      "source": [
        "#CV3\r\n",
        "Ad = input('İsminizi Girin : ')\r\n",
        "print(Ad)\r\n",
        "\r\n",
        "Soyad = input('Soyad Girin : ')\r\n",
        "print(Soyad)\r\n",
        "\r\n",
        "Yas= input('Dogum Tarihi Girin : ')\r\n",
        "print(Yas)\r\n",
        " \r\n",
        "Adres= input('Adres Girin : ')\r\n",
        "print(Adres)\r\n",
        "\r\n",
        "IsUnvanı= input('Is Unvanı Girin : ')\r\n",
        "print(IsUnvanı)"
      ],
      "execution_count": null,
      "outputs": []
    },
    {
      "cell_type": "code",
      "metadata": {
        "id": "emsACnsIE9pB"
      },
      "source": [
        "#CV4\r\n",
        "Ad = input('İsminizi Girin : ')\r\n",
        "print(Ad)\r\n",
        "\r\n",
        "Soyad = input('Soyad Girin : ')\r\n",
        "print(Soyad)\r\n",
        "\r\n",
        "Yas= input('Dogum Tarihi Girin : ')\r\n",
        "print(Yas)\r\n",
        " \r\n",
        "Adres= input('Adres Girin : ')\r\n",
        "print(Adres)\r\n",
        "\r\n",
        "IsUnvanı= input('Is Unvanı Girin : ')\r\n",
        "print(IsUnvanı)"
      ],
      "execution_count": null,
      "outputs": []
    },
    {
      "cell_type": "code",
      "metadata": {
        "id": "j7mB3lduFATV"
      },
      "source": [
        "#CV5\r\n",
        "Ad = input('İsminizi Girin : ')\r\n",
        "print(Ad)\r\n",
        "\r\n",
        "Soyad = input('Soyad Girin : ')\r\n",
        "print(Soyad)\r\n",
        "\r\n",
        "Yas= input('Dogum Tarihi Girin : ')\r\n",
        "print(Yas)\r\n",
        " \r\n",
        "Adres= input('Adres Girin : ')\r\n",
        "print(Adres)\r\n",
        "\r\n",
        "IsUnvanı= input('Is Unvanı Girin : ')\r\n",
        "print(IsUnvanı)"
      ],
      "execution_count": null,
      "outputs": []
    }
  ]
}